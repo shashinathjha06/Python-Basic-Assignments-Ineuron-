{
 "cells": [
  {
   "cell_type": "markdown",
   "id": "70ebc177",
   "metadata": {},
   "source": [
    "# Q1.  Is the Python Standard Library included with PyInputPlus?"
   ]
  },
  {
   "cell_type": "code",
   "execution_count": 1,
   "id": "2ac841d2",
   "metadata": {},
   "outputs": [],
   "source": [
    "## Ans. It is not a part of python standard library"
   ]
  },
  {
   "cell_type": "markdown",
   "id": "7c31380a",
   "metadata": {},
   "source": [
    "# Q2. Why is PyInputPlus commonly imported with import pyinputplus as pypi?"
   ]
  },
  {
   "cell_type": "code",
   "execution_count": 2,
   "id": "112e61e5",
   "metadata": {},
   "outputs": [],
   "source": [
    "## Ans . This piece of code help us save time from calling each time we want to use pyinputplus where pypi is allias"
   ]
  },
  {
   "cell_type": "markdown",
   "id": "73cd69d4",
   "metadata": {},
   "source": [
    "# Q3. How do you distinguish between inputInt() and inputFloat()?"
   ]
  },
  {
   "cell_type": "code",
   "execution_count": 3,
   "id": "04836f90",
   "metadata": {},
   "outputs": [],
   "source": [
    "## Ans . inputInt() is for integers i.e number without decimal. where as inputFloat() belongs to float class i.e with decimal"
   ]
  },
  {
   "cell_type": "markdown",
   "id": "64d90c13",
   "metadata": {},
   "source": [
    "# Q4. Using PyInputPlus, how do you ensure that the user enters a whole number between 0 and 99?"
   ]
  },
  {
   "cell_type": "code",
   "execution_count": 4,
   "id": "7e12580b",
   "metadata": {},
   "outputs": [],
   "source": [
    "## Ans. pyip.inputNum('>', min=0, lessThan=99)"
   ]
  },
  {
   "cell_type": "markdown",
   "id": "4931a8dc",
   "metadata": {},
   "source": [
    "# Q5. What is transferred to the keyword arguments allowRegexes and blockRegexes?"
   ]
  },
  {
   "cell_type": "code",
   "execution_count": null,
   "id": "7331ae60",
   "metadata": {},
   "outputs": [],
   "source": [
    "#for example:\n",
    "import pyinputplus as pyip\n",
    "a = pyip.inputStr(allowRegexes=[r'shashi', 'nath'],blockRegexes=[r'Sahil'])"
   ]
  },
  {
   "cell_type": "markdown",
   "id": "aa8d8621",
   "metadata": {},
   "source": [
    "# Q.6 If a blank input is entered three times, what does inputStr(limit=3) do?"
   ]
  },
  {
   "cell_type": "code",
   "execution_count": 7,
   "id": "7f3ab9dc",
   "metadata": {},
   "outputs": [],
   "source": [
    "## Ans it will give this error:\n",
    "     pyinputplus.RetryLimitException"
   ]
  },
  {
   "cell_type": "markdown",
   "id": "054c6793",
   "metadata": {},
   "source": [
    "# Q7. If blank input is entered three times, what does inputStr(limit=3, default='hello') do?"
   ]
  },
  {
   "cell_type": "code",
   "execution_count": 8,
   "id": "def0a87d",
   "metadata": {},
   "outputs": [],
   "source": [
    "##Ans. Instead of raising RetryLimitException, the inputNum() function simply returns the string 'hello'."
   ]
  },
  {
   "cell_type": "code",
   "execution_count": null,
   "id": "03ff344a",
   "metadata": {},
   "outputs": [],
   "source": []
  }
 ],
 "metadata": {
  "kernelspec": {
   "display_name": "Python 3",
   "language": "python",
   "name": "python3"
  },
  "language_info": {
   "codemirror_mode": {
    "name": "ipython",
    "version": 3
   },
   "file_extension": ".py",
   "mimetype": "text/x-python",
   "name": "python",
   "nbconvert_exporter": "python",
   "pygments_lexer": "ipython3",
   "version": "3.8.8"
  }
 },
 "nbformat": 4,
 "nbformat_minor": 5
}
