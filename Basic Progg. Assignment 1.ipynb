{
 "cells": [
  {
   "cell_type": "markdown",
   "metadata": {},
   "source": [
    "# Q1 Write a Python program to print &quot;Hello Python&quot;?"
   ]
  },
  {
   "cell_type": "code",
   "execution_count": 1,
   "metadata": {},
   "outputs": [
    {
     "name": "stdout",
     "output_type": "stream",
     "text": [
      "Hello Python\n"
     ]
    }
   ],
   "source": [
    "print(\"Hello Python\")"
   ]
  },
  {
   "cell_type": "markdown",
   "metadata": {},
   "source": [
    "## Q2.Write a Python program to do arithmetical operations addition and division.?"
   ]
  },
  {
   "cell_type": "code",
   "execution_count": 2,
   "metadata": {},
   "outputs": [
    {
     "name": "stdout",
     "output_type": "stream",
     "text": [
      "Enter first number: 100\n",
      "Enter second number: 20\n",
      "The sum of 100 and 20 is 120.0\n",
      "Enter first number: 100\n",
      "Enter second number: 3\n",
      "The div num of 100 and 3 is 120.0\n"
     ]
    }
   ],
   "source": [
    "num1 = input('Enter first number: ')  \n",
    "num2 = input('Enter second number: ') \n",
    "Sum = float(num1) + float(num2)\n",
    "print('The sum of {0} and {1} is {2}'.format(num1, num2, Sum))\n",
    "\n",
    "\n",
    "\n",
    "num1 = input('Enter first number: ')  \n",
    "num2 = input('Enter second number: ') \n",
    "div = float(num1) / float(num2)\n",
    "print('The div num of {0} and {1} is {2}'.format(num1, num2, Sum))"
   ]
  },
  {
   "cell_type": "markdown",
   "metadata": {},
   "source": [
    "# Q3 . Write a Python program to find the area of a triangle?"
   ]
  },
  {
   "cell_type": "code",
   "execution_count": 3,
   "metadata": {},
   "outputs": [
    {
     "name": "stdout",
     "output_type": "stream",
     "text": [
      "Entre the value of side a 5\n",
      "Entre the value of side b 7\n",
      "Entre the value of side c 8\n",
      "The area of the triangle is 17.32\n"
     ]
    }
   ],
   "source": [
    "a = float(input(\"Entre the value of side a \"))\n",
    "b = float(input(\"Entre the value of side b \"))\n",
    "c = float(input(\"Entre the value of side c \"))\n",
    "\n",
    "# Semi-Perimeter (S)\n",
    "\n",
    "s = (a+b+c)/2\n",
    "\n",
    "# calculate the area\n",
    "\n",
    "area = (s*(s-a)*(s-b)*(s-c)) ** 0.5\n",
    "print('The area of the triangle is %0.2f' %area)"
   ]
  },
  {
   "cell_type": "markdown",
   "metadata": {},
   "source": [
    "# Q.4 Write a Python program to swap two variables?"
   ]
  },
  {
   "cell_type": "code",
   "execution_count": 4,
   "metadata": {},
   "outputs": [
    {
     "name": "stdout",
     "output_type": "stream",
     "text": [
      "vlaue of s 10\n",
      "vlaue of y 5\n"
     ]
    }
   ],
   "source": [
    "s = 5\n",
    "y = 10\n",
    "\n",
    "s,y = y,s\n",
    "\n",
    "print(\"vlaue of s\",s)\n",
    "print(\"vlaue of y\",y)"
   ]
  },
  {
   "cell_type": "markdown",
   "metadata": {},
   "source": [
    "# Q.5 Write a Python program to generate a random number?"
   ]
  },
  {
   "cell_type": "code",
   "execution_count": 5,
   "metadata": {},
   "outputs": [
    {
     "name": "stdout",
     "output_type": "stream",
     "text": [
      "22\n"
     ]
    }
   ],
   "source": [
    "import random\n",
    "print(random.randrange(10, 30))"
   ]
  },
  {
   "cell_type": "code",
   "execution_count": null,
   "metadata": {},
   "outputs": [],
   "source": []
  }
 ],
 "metadata": {
  "kernelspec": {
   "display_name": "Python 3",
   "language": "python",
   "name": "python3"
  },
  "language_info": {
   "codemirror_mode": {
    "name": "ipython",
    "version": 3
   },
   "file_extension": ".py",
   "mimetype": "text/x-python",
   "name": "python",
   "nbconvert_exporter": "python",
   "pygments_lexer": "ipython3",
   "version": "3.8.5"
  }
 },
 "nbformat": 4,
 "nbformat_minor": 4
}
