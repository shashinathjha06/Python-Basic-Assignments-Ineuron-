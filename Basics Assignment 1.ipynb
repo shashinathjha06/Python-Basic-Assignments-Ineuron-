{
 "cells": [
  {
   "cell_type": "markdown",
   "metadata": {},
   "source": [
    "## Q1. In the below elements which of them are values or an expression? eg:- values can be integer or string and expressions will be mathematical operators.\n",
    "\n",
    "    * \n",
    "'hello'\n",
    "-87.8\n",
    "- \n",
    "/ \n",
    "\n",
    "\n",
    "6 \n"
   ]
  },
  {
   "cell_type": "code",
   "execution_count": null,
   "metadata": {},
   "outputs": [],
   "source": [
    "## Ans Value is  \"Hello\",-87.8,6 and Expression is * , - , / ."
   ]
  },
  {
   "cell_type": "markdown",
   "metadata": {},
   "source": [
    "## Q2. What is the difference between string and variable?"
   ]
  },
  {
   "cell_type": "code",
   "execution_count": null,
   "metadata": {},
   "outputs": [],
   "source": [
    "## Ans. A Variable is a store of information, and a String is a type of information you would store in a Variable.\n",
    "A String is usually words, enclosed with \"\"Eg String x =\"python\" x is the Variable, and we declared it as a String."
   ]
  },
  {
   "cell_type": "markdown",
   "metadata": {},
   "source": [
    "## Q3.Describe three different data types."
   ]
  },
  {
   "cell_type": "code",
   "execution_count": null,
   "metadata": {},
   "outputs": [],
   "source": [
    "## Ans. Data type is represent the type of data stored in any variable or memoey. Data type classified into two parts\n",
    "1. Build in data type\n",
    "2. user defined data type\n",
    "\n",
    "Following are the buit in data type\n",
    "1. Numeric \n",
    "2. Sequence\n",
    "3. set \n",
    "4. Mapping\n",
    "\n",
    "\n",
    "Numeric --> Any variable which contian numeric data that is mumeric data type which futher classified into below:\n",
    "    \n",
    "    Integer --> Int, or integer, is a whole number, positive or negative, without decimals:\n",
    "          e.g. 12,-34,01234,-4567432\n",
    "    \n",
    "    Float --> Float, or \"floating point number\" is a number, positive or negative, containing decimals.:\n",
    "        E.g. 1.234 , 45.6\n",
    "    \n",
    "    Complex --> Complex numbers are written with a \"j\" as the imaginary part:\n",
    "        e.g. 3+5j, 2+7j\n",
    "\n",
    "Sequence --> Sequences allow you to store multiple values in an organized and efficient way.\n",
    "            There are several sequence types: strings, lists, tuples and range objects. \n",
    "            Dictionaries and sets are containers for non-sequential data.:\n",
    "                \n",
    "                String --> String represent group of character which are enclosed in a '' or \" \"\n",
    "                e.g \"Shashi\", 'Delhi'\n",
    "                \n",
    "                List --> Lists are mutable sequences, typically used to store collections of homogeneous items.\n",
    "                List are enclosed by the square brackets [] \n",
    "                \n",
    "                E.g L = [1,2,\"Shashi\",3+2j]\n",
    "                \n",
    "                \n",
    "                Tuples --> Tuples are immutable sequences, typically used to store collections of heterogeneous data \n",
    "                (such as the 2-tuples produced by the enumerate() built-in)\n",
    "                 E.g T= (2,3,67,98)\n",
    "\n",
    "Set --> Set is an unordered collection of data type that is iterable, mutable and has no duplicate elements.\n",
    "        The order of elements in a set is undefined though it may consist of various elements\n",
    "                "
   ]
  },
  {
   "cell_type": "markdown",
   "metadata": {},
   "source": [
    "## Q 4.What is an expression made up of? What do all expressions do?"
   ]
  },
  {
   "cell_type": "code",
   "execution_count": null,
   "metadata": {},
   "outputs": [],
   "source": [
    "## It Contian identifier , literal , operator and expressions are representations of value.\n",
    "\n",
    "    "
   ]
  },
  {
   "cell_type": "markdown",
   "metadata": {},
   "source": [
    "## Q5. This assignment statements, like spam = 10. What is the difference between an expression and a statement?"
   ]
  },
  {
   "cell_type": "code",
   "execution_count": null,
   "metadata": {},
   "outputs": [],
   "source": [
    "##  Ans An “expression” is a combination of values and functions that are combined \n",
    "    and interpreted by the compiler to create a new value, \n",
    "    as opposed to a “statement” which is just a standalone unit of execution and doesn’t return anything."
   ]
  },
  {
   "cell_type": "markdown",
   "metadata": {},
   "source": [
    "## Q6. After running the following code, what does the variable bacon contain?\n",
    "    bacon = 22\n",
    "    bacon + 1"
   ]
  },
  {
   "cell_type": "code",
   "execution_count": null,
   "metadata": {},
   "outputs": [],
   "source": [
    "## Ans 22"
   ]
  },
  {
   "cell_type": "markdown",
   "metadata": {},
   "source": [
    "# Q7. What should the values of the following two terms be?\n",
    "    'spam' + 'spamspam'\n",
    "    'spam' * 3\n"
   ]
  },
  {
   "cell_type": "code",
   "execution_count": null,
   "metadata": {},
   "outputs": [],
   "source": [
    "## Ans --> Both term have the same value \"spamspamspam\""
   ]
  },
  {
   "cell_type": "markdown",
   "metadata": {},
   "source": [
    "## Q8. Why is eggs a valid variable name while 100 is invalid?"
   ]
  },
  {
   "cell_type": "code",
   "execution_count": null,
   "metadata": {},
   "outputs": [],
   "source": [
    "## eggs are valid variable because varaiable name contain only letter or the underscore character\n",
    ", alpha-numeric characters , underscores and Variable names are case-sensitive and variable name cannot start with a number.\n",
    "  Digit 100 does not match with any criteria which required for assigning variable name. \n"
   ]
  },
  {
   "cell_type": "markdown",
   "metadata": {},
   "source": [
    "## Q9. What three functions can be used to get the integer, floating-point number, or string version of a value?"
   ]
  },
  {
   "cell_type": "code",
   "execution_count": null,
   "metadata": {},
   "outputs": [],
   "source": [
    "##The int(), float(), and str() functions used to get the integer, floating-point number, \n",
    "  and string versions of the value passed to them."
   ]
  },
  {
   "cell_type": "markdown",
   "metadata": {},
   "source": [
    "## Q10. Why does this expression cause an error? How can you fix it?\n",
    "    'I have eaten ' + 99 + ' burritos.'"
   ]
  },
  {
   "cell_type": "code",
   "execution_count": null,
   "metadata": {},
   "outputs": [],
   "source": [
    "##This Expression get error because we connot concatenate the string data type with integer data type.\n",
    "  To remove the error we can convert the int 99 into str by enclosing it in double/single code \"99\".\n",
    "    \n",
    "    'I have eaten ' + \"99\" + ' burritos.'"
   ]
  }
 ],
 "metadata": {
  "kernelspec": {
   "display_name": "Python 3",
   "language": "python",
   "name": "python3"
  },
  "language_info": {
   "codemirror_mode": {
    "name": "ipython",
    "version": 3
   },
   "file_extension": ".py",
   "mimetype": "text/x-python",
   "name": "python",
   "nbconvert_exporter": "python",
   "pygments_lexer": "ipython3",
   "version": "3.8.5"
  }
 },
 "nbformat": 4,
 "nbformat_minor": 4
}
