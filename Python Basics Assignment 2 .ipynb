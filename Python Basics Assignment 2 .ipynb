{
 "cells": [
  {
   "cell_type": "markdown",
   "metadata": {},
   "source": [
    "## Q1.What are the two values of the Boolean data type? How do you write them?"
   ]
  },
  {
   "cell_type": "code",
   "execution_count": null,
   "metadata": {},
   "outputs": [],
   "source": [
    "##Ans. The boolean data type is either True or False (0 or 1). \n",
    "Boolean variables are writen as True and False keywords."
   ]
  },
  {
   "cell_type": "markdown",
   "metadata": {},
   "source": [
    "# Q2. What are the three different types of Boolean operators?"
   ]
  },
  {
   "cell_type": "code",
   "execution_count": null,
   "metadata": {},
   "outputs": [],
   "source": [
    "## Ans. and , or and not are the three type of boolean operrators."
   ]
  },
  {
   "cell_type": "markdown",
   "metadata": {},
   "source": [
    "## Q3. Make a list of each Boolean operator's truth tables \n",
    "## (i.e. every possible combination of Boolean values for the operator and what it evaluates)."
   ]
  },
  {
   "cell_type": "code",
   "execution_count": null,
   "metadata": {},
   "outputs": [],
   "source": [
    "## AND Truth Table\n",
    "x\tand\ty\tReturns\n",
    "True\tand\tTrue\tTrue\n",
    "True\tand\tFalse\tFalse\n",
    "False\tand\tTrue\tFalse\n",
    "False\tand\tFalse\tFalse\n",
    "\n",
    "OR Truth Table\n",
    "x\tor\ty\tReturns\n",
    "True\tor\tTrue\tTrue\n",
    "True\tor\tFalse\tTrue\n",
    "False\tor\tTrue\tTrue\n",
    "False\tor\tFalse\tFalse\n",
    "\n",
    "\n",
    "NOT Truth Table\n",
    "not\tx\tReturns\n",
    "not\tTrue\tFalse\n",
    "not\tFalse\tTrue"
   ]
  },
  {
   "cell_type": "markdown",
   "metadata": {},
   "source": [
    "## Q4. What are the values of the following expressions?\n"
   ]
  },
  {
   "cell_type": "code",
   "execution_count": null,
   "metadata": {},
   "outputs": [],
   "source": [
    "    (5 > 4) and (3 == 5)\n",
    "## Ans False\n",
    "\n",
    "    not (5 > 4)\n",
    "## Ans False\n",
    "\n",
    "    (5 > 4) or (3 == 5)\n",
    "## Ans True\n",
    "\n",
    "\n",
    "    not ((5 > 4) or (3 == 5))\n",
    "## Ans False\n",
    "\n",
    "    (True and True) and (True == False)\n",
    "## Ans False\n",
    "\n",
    "    (not False) or (not True)\n",
    "## Ans True"
   ]
  },
  {
   "cell_type": "markdown",
   "metadata": {},
   "source": [
    "# Q5.What are the six comparison operators?"
   ]
  },
  {
   "cell_type": "code",
   "execution_count": null,
   "metadata": {},
   "outputs": [],
   "source": [
    ">, <, >=, <=, ===, and !==."
   ]
  },
  {
   "cell_type": "markdown",
   "metadata": {},
   "source": [
    "## Q6. How do you tell the difference between the equal to and assignment operators.Describe a condition and when you would use one."
   ]
  },
  {
   "cell_type": "code",
   "execution_count": null,
   "metadata": {},
   "outputs": [],
   "source": [
    "## Ans \"==\" is used to compare the value and Assignment operator is used to assing the value to particular varialbel\n",
    "\n",
    "e.g. a = 10 \"\"\"this is assignment operator in this we assigning value  10 in variable 'a' using '=' operator\"\"\"\n",
    "     a == 10 (\"in this we are checking/comparing is a equal to 10 or not\")"
   ]
  },
  {
   "cell_type": "markdown",
   "metadata": {},
   "source": [
    "## Q7. Identify the three blocks in this code:\n",
    "    spam = 0\n",
    "if spam == 10:\n",
    "    print('eggs')\n",
    "if spam > 5:\n",
    "    print('bacon')\n",
    "else:\n",
    "    print('ham')\n",
    "    print('spam')\n",
    "    print('spam')\n"
   ]
  },
  {
   "cell_type": "code",
   "execution_count": null,
   "metadata": {},
   "outputs": [],
   "source": [
    "Ans ## if spam == 10:\n",
    "       if spam > 5:\n",
    "       else:"
   ]
  },
  {
   "cell_type": "markdown",
   "metadata": {},
   "source": [
    "# Q8. Write code that prints Hello if 1 is stored in spam, prints Howdy if 2 is stored in spam, and prints Greetings! if anything else is stored in spam."
   ]
  },
  {
   "cell_type": "code",
   "execution_count": 22,
   "metadata": {},
   "outputs": [
    {
     "name": "stdout",
     "output_type": "stream",
     "text": [
      "Hello\n",
      "Howdy\n",
      "Greeting\n"
     ]
    }
   ],
   "source": [
    "# spam = (1,2,3)\n",
    "for i in spam:\n",
    "    if i == 1:\n",
    "        print(\"Hello\")\n",
    "    if i == 2:\n",
    "        print(\"Howdy\")\n",
    "else:\n",
    "    print(\"Greeting\")"
   ]
  },
  {
   "cell_type": "markdown",
   "metadata": {},
   "source": [
    "# Q9.If your programme is stuck in an endless loop, what keys you’ll press?"
   ]
  },
  {
   "cell_type": "code",
   "execution_count": null,
   "metadata": {},
   "outputs": [],
   "source": [
    "##Ans  Press ctrl + C to terminate the endless loop."
   ]
  },
  {
   "cell_type": "markdown",
   "metadata": {},
   "source": [
    "# Q10 How can you tell the difference between break and continue?"
   ]
  },
  {
   "cell_type": "code",
   "execution_count": null,
   "metadata": {},
   "outputs": [],
   "source": [
    "##Ans10 The break statement takes care of terminating the loop in which it is used.\n",
    "        If the break statement is used inside nested loops, the current loop is terminated,\n",
    "        and the flow will continue with the code followed that comes after the loop.\n",
    "        \n",
    "        \n",
    "        The for –loop, loops through my_list array given. Inside the for-loop, the if-condition gets executed.\n",
    "        If the condition is true, the continue statement is executed,\n",
    "        and the control will pass to the start of the loop for the next iteration."
   ]
  },
  {
   "cell_type": "markdown",
   "metadata": {},
   "source": [
    "# Q11. In a for loop, what is the difference between range (10), range (0, 10), and range (0, 10, 1)?"
   ]
  },
  {
   "cell_type": "code",
   "execution_count": null,
   "metadata": {},
   "outputs": [],
   "source": [
    "## Ans There is no diffrence between above three range example. \n",
    "       As all the three will range example generate 0 to 9 numbers.\n"
   ]
  },
  {
   "cell_type": "code",
   "execution_count": null,
   "metadata": {},
   "outputs": [],
   "source": [
    "## Q.12. Write a short program that prints the numbers 1 to 10 using a for loop.\n",
    "         Then write an equivalent program that prints the numbers 1 to 10 using a while loop."
   ]
  },
  {
   "cell_type": "code",
   "execution_count": 21,
   "metadata": {},
   "outputs": [
    {
     "name": "stdout",
     "output_type": "stream",
     "text": [
      "1\n",
      "2\n",
      "3\n",
      "4\n",
      "5\n",
      "6\n",
      "7\n",
      "8\n",
      "9\n",
      "10\n"
     ]
    }
   ],
   "source": [
    "for i in range (1,11):\n",
    "    print(i)"
   ]
  },
  {
   "cell_type": "markdown",
   "metadata": {},
   "source": [
    "# Q13. If you had a function named bacon () inside a module named spam, how would you call it after importing spam?"
   ]
  },
  {
   "cell_type": "code",
   "execution_count": null,
   "metadata": {},
   "outputs": [],
   "source": [
    "## Ans import module name as alias\n",
    "       alias.function name\n",
    "    \n",
    "    So ATQ we call it as below\n",
    "    \"\"\"import spam as sp\n",
    "      sp.bacon\"\"\""
   ]
  }
 ],
 "metadata": {
  "kernelspec": {
   "display_name": "Python 3",
   "language": "python",
   "name": "python3"
  },
  "language_info": {
   "codemirror_mode": {
    "name": "ipython",
    "version": 3
   },
   "file_extension": ".py",
   "mimetype": "text/x-python",
   "name": "python",
   "nbconvert_exporter": "python",
   "pygments_lexer": "ipython3",
   "version": "3.8.5"
  }
 },
 "nbformat": 4,
 "nbformat_minor": 4
}
