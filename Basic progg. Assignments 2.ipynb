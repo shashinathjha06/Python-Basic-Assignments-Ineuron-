{
 "cells": [
  {
   "cell_type": "markdown",
   "metadata": {},
   "source": [
    "# Q.1 Write a Python program to convert kilometers to miles?"
   ]
  },
  {
   "cell_type": "code",
   "execution_count": 9,
   "metadata": {},
   "outputs": [
    {
     "name": "stdout",
     "output_type": "stream",
     "text": [
      "Range in kilometers : 10\n",
      "10.0 Kilometers is equal to 6.213699999999999 Miles\n"
     ]
    }
   ],
   "source": [
    "kilometers = float(input(\"Range in kilometers : \"))\n",
    "\n",
    "convert_m = 0.62137\n",
    "\n",
    "miles = kilometers * convert_m\n",
    "\n",
    "print('{0} Kilometers is equal to {1} Miles'.format(kilometers ,miles))"
   ]
  },
  {
   "cell_type": "markdown",
   "metadata": {},
   "source": [
    "# Q 2.Write a Python program to convert Celsius to Fahrenheit?"
   ]
  },
  {
   "cell_type": "code",
   "execution_count": 11,
   "metadata": {},
   "outputs": [
    {
     "name": "stdout",
     "output_type": "stream",
     "text": [
      "Temp in Celsius : 37\n",
      "37.0 Celsius is equal to 98.60000000000001 Fahrenheit\n"
     ]
    }
   ],
   "source": [
    "Celsius = float(input(\"Temp in Celsius : \"))\n",
    "\n",
    "convert_Fahrenheit = 0.62137\n",
    "\n",
    "Fahrenheit = (Celsius * 1.8) + 32\n",
    "\n",
    "print('{0} Celsius is equal to {1} Fahrenheit'.format(Celsius ,Fahrenheit))"
   ]
  },
  {
   "cell_type": "markdown",
   "metadata": {},
   "source": [
    "# Q3. Write a Python program to display calendar?"
   ]
  },
  {
   "cell_type": "code",
   "execution_count": 14,
   "metadata": {},
   "outputs": [
    {
     "name": "stdout",
     "output_type": "stream",
     "text": [
      "Enter Year : 1995\n",
      "Enter Month : 11\n",
      "   November 1995\n",
      "Mo Tu We Th Fr Sa Su\n",
      "       1  2  3  4  5\n",
      " 6  7  8  9 10 11 12\n",
      "13 14 15 16 17 18 19\n",
      "20 21 22 23 24 25 26\n",
      "27 28 29 30\n",
      "\n"
     ]
    }
   ],
   "source": [
    "import calendar as cal\n",
    "\n",
    "Year = int(input(\"Enter Year : \"))\n",
    "Month = int(input(\"Enter Month : \"))\n",
    "\n",
    "print(cal.month(Year, Month))"
   ]
  },
  {
   "cell_type": "markdown",
   "metadata": {},
   "source": [
    "# Q.4 Write a Python program to solve quadratic equation?"
   ]
  },
  {
   "cell_type": "code",
   "execution_count": 1,
   "metadata": {},
   "outputs": [
    {
     "name": "stdout",
     "output_type": "stream",
     "text": [
      "solve the equation ax^2+bx+c=o\n",
      "a= 3\n",
      "b= 5\n",
      "c= 2\n",
      "This equation has two solutions:  -0.6666666666666666 or -1.0\n"
     ]
    }
   ],
   "source": [
    "import math \n",
    " \n",
    "print('solve the equation ax^2+bx+c=o') \n",
    " \n",
    "a = int(input('a= ')) \n",
    "b = int(input('b= ')) \n",
    "c = int(input('c= ')) \n",
    " \n",
    "d = b**2-4*a*c \n",
    " \n",
    "if d < 0: \n",
    "   print('The equation has no real solution') \n",
    "elif d == 0: \n",
    "   x = (-b)/(2*a) \n",
    "   print('This equation has one solution: ',x) \n",
    "else: \n",
    "   x1 = (-b+math.sqrt(d))/(2*a) \n",
    "   x2 = (-b-math.sqrt(d))/(2*a) \n",
    "   print('This equation has two solutions: ',x1, 'or', x2)"
   ]
  },
  {
   "cell_type": "markdown",
   "metadata": {},
   "source": [
    "# Q5. Write a Python program to swap two variables without temp variable?"
   ]
  },
  {
   "cell_type": "code",
   "execution_count": 5,
   "metadata": {},
   "outputs": [],
   "source": [
    "a = \"Shashi\"\n",
    "\n",
    "b = 10\n",
    "\n",
    "\"\"\"After swapping we will get \n",
    "    b : Shashi and a : 10 \"\"\"\n",
    "\n",
    "a, b = b , a\n",
    "\n"
   ]
  },
  {
   "cell_type": "code",
   "execution_count": 6,
   "metadata": {},
   "outputs": [
    {
     "data": {
      "text/plain": [
       "10"
      ]
     },
     "execution_count": 6,
     "metadata": {},
     "output_type": "execute_result"
    }
   ],
   "source": [
    "a"
   ]
  },
  {
   "cell_type": "code",
   "execution_count": 7,
   "metadata": {},
   "outputs": [
    {
     "data": {
      "text/plain": [
       "'Shashi'"
      ]
     },
     "execution_count": 7,
     "metadata": {},
     "output_type": "execute_result"
    }
   ],
   "source": [
    "b"
   ]
  },
  {
   "cell_type": "code",
   "execution_count": null,
   "metadata": {},
   "outputs": [],
   "source": []
  }
 ],
 "metadata": {
  "kernelspec": {
   "display_name": "Python 3",
   "language": "python",
   "name": "python3"
  },
  "language_info": {
   "codemirror_mode": {
    "name": "ipython",
    "version": 3
   },
   "file_extension": ".py",
   "mimetype": "text/x-python",
   "name": "python",
   "nbconvert_exporter": "python",
   "pygments_lexer": "ipython3",
   "version": "3.8.5"
  }
 },
 "nbformat": 4,
 "nbformat_minor": 4
}
