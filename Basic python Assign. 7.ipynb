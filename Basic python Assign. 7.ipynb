{
 "cells": [
  {
   "cell_type": "markdown",
   "id": "81d8064e",
   "metadata": {},
   "source": [
    "# Q1. What is the name of the feature responsible for generating Regex objects?"
   ]
  },
  {
   "cell_type": "code",
   "execution_count": 1,
   "id": "93bc6609",
   "metadata": {},
   "outputs": [],
   "source": [
    "## Ans. The re.compile() function returns Regex objects."
   ]
  },
  {
   "cell_type": "markdown",
   "id": "f27bbdef",
   "metadata": {},
   "source": [
    "# Q2. Why do raw strings often appear in Regex objects?"
   ]
  },
  {
   "cell_type": "code",
   "execution_count": 8,
   "id": "927cb637",
   "metadata": {},
   "outputs": [],
   "source": [
    "## Ans Raw strings are used so that backslashes do not have to be escaped."
   ]
  },
  {
   "cell_type": "markdown",
   "id": "893abde8",
   "metadata": {},
   "source": [
    "# Q3. What is the return value of the search() method?"
   ]
  },
  {
   "cell_type": "code",
   "execution_count": 9,
   "id": "2a4e432d",
   "metadata": {},
   "outputs": [],
   "source": [
    "## Ans. The search() method returns Match objects."
   ]
  },
  {
   "cell_type": "markdown",
   "id": "d847350c",
   "metadata": {},
   "source": [
    "# Q.4. From a Match item, how do you get the actual strings that match the pattern?"
   ]
  },
  {
   "cell_type": "code",
   "execution_count": 15,
   "id": "daeb3fa4",
   "metadata": {},
   "outputs": [],
   "source": [
    "##Ans. The group() method returns strings of the matched text."
   ]
  },
  {
   "cell_type": "markdown",
   "id": "32cac9a4",
   "metadata": {},
   "source": [
    "# Q5. In the regex which created from the r'(\\d\\d\\d)-(\\d\\d\\d-\\d\\d\\d\\d)', what does group zero cover? Group 2? Group 1?"
   ]
  },
  {
   "cell_type": "code",
   "execution_count": 27,
   "id": "378bdfa5",
   "metadata": {},
   "outputs": [],
   "source": [
    "## Ans. Group 0 is the entire match, group 1 covers the first set of parentheses, and group 2 covers the second set of parentheses."
   ]
  },
  {
   "cell_type": "markdown",
   "id": "3b066a9a",
   "metadata": {},
   "source": [
    "# Q6. In standard expression syntax, parentheses and intervals have distinct meanings. How can you tell a regex that you want it to fit real parentheses and periods?"
   ]
  },
  {
   "cell_type": "code",
   "execution_count": 28,
   "id": "80b9bc0c",
   "metadata": {},
   "outputs": [],
   "source": [
    "##Ans . Periods and parentheses can be escaped with a backslash: \\., \\(, and \\)."
   ]
  },
  {
   "cell_type": "markdown",
   "id": "9a09a957",
   "metadata": {},
   "source": [
    "# Q.7. The findall() method returns a string list or a list of string tuples. What causes it to return one of the two options?"
   ]
  },
  {
   "cell_type": "code",
   "execution_count": 29,
   "id": "c342bb57",
   "metadata": {},
   "outputs": [],
   "source": [
    "##Ans. If the regex has no groups, a list of strings is returned. If the regex has groups, a list of tuples of strings is returned."
   ]
  },
  {
   "cell_type": "markdown",
   "id": "31be8ccc",
   "metadata": {},
   "source": [
    "# Q8. In standard expressions, what does the | character mean?"
   ]
  },
  {
   "cell_type": "code",
   "execution_count": 31,
   "id": "c03b8ff9",
   "metadata": {},
   "outputs": [],
   "source": [
    "##Ans. The | character signifies matching \"either, or\" between two groups."
   ]
  },
  {
   "cell_type": "markdown",
   "id": "94fff62c",
   "metadata": {},
   "source": [
    "# Q9. In regular expressions, what does the character stand for?"
   ]
  },
  {
   "cell_type": "code",
   "execution_count": 32,
   "id": "2a09b425",
   "metadata": {},
   "outputs": [],
   "source": [
    "##Ans. It can either mean \"match zero or one of the preceding group\" or be used to signify nongreedy matching."
   ]
  },
  {
   "cell_type": "markdown",
   "id": "d3b26dac",
   "metadata": {},
   "source": [
    "# Q10. In regular expressions, what is the difference between the + and * characters?"
   ]
  },
  {
   "cell_type": "code",
   "execution_count": 33,
   "id": "f887cb33",
   "metadata": {},
   "outputs": [],
   "source": [
    "##Ans . The + matches one or more. The * matches zero or more."
   ]
  },
  {
   "cell_type": "markdown",
   "id": "ec4209ef",
   "metadata": {},
   "source": [
    "# Q11.What is the difference between {4} and {4,5} in regular expression?"
   ]
  },
  {
   "cell_type": "code",
   "execution_count": 35,
   "id": "7943fab3",
   "metadata": {},
   "outputs": [],
   "source": [
    "##Ans. The {3} matches exactly three instances of the preceding group. The {3,5} matches between three and five instances."
   ]
  },
  {
   "cell_type": "markdown",
   "id": "03a327cf",
   "metadata": {},
   "source": [
    "# Q12.What do you mean by the \\d, \\w, and \\s shorthand character classes signify in regular expressions?"
   ]
  },
  {
   "cell_type": "code",
   "execution_count": 36,
   "id": "55f55e8b",
   "metadata": {},
   "outputs": [],
   "source": [
    "##Ans. The \\d, \\w, and \\s shorthand character classes match a single digit, word, or space character, respectively."
   ]
  },
  {
   "cell_type": "markdown",
   "id": "7d86bae2",
   "metadata": {},
   "source": [
    "# Q13. What do means by \\D, \\W, and \\S shorthand character classes signify in regular expressions?"
   ]
  },
  {
   "cell_type": "code",
   "execution_count": 37,
   "id": "a80326db",
   "metadata": {},
   "outputs": [],
   "source": [
    "## Ans. The \\D, \\W, and \\S shorthand character classes match a single character that is not a digit, word, or space character, respectively."
   ]
  },
  {
   "cell_type": "markdown",
   "id": "7b717799",
   "metadata": {},
   "source": [
    "# Q14. What is the difference between . ? and . ?"
   ]
  },
  {
   "cell_type": "code",
   "execution_count": 38,
   "id": "e0841ab4",
   "metadata": {},
   "outputs": [],
   "source": [
    "## Ans . .*? adds ?, a quantifier that matches the preceding element (the \".*\" here) 0 or 1 times.\n",
    "    ## .* adds *, a quantifier that matches the preceding element (the \".\" here) 0 or more times."
   ]
  },
  {
   "cell_type": "markdown",
   "id": "7f015522",
   "metadata": {},
   "source": [
    "# Q15. What is the syntax for matching both numbers and lowercase letters with a character class?"
   ]
  },
  {
   "cell_type": "code",
   "execution_count": 46,
   "id": "950becb5",
   "metadata": {},
   "outputs": [],
   "source": [
    "import re\n",
    "\n",
    "def match(text):\n",
    "    patterns = '^[a-z0-9]*$'\n",
    "    if re.search(patterns):\n",
    "        return \"matched\"\n",
    "    else:\n",
    "        return \"not matched\""
   ]
  },
  {
   "cell_type": "code",
   "execution_count": 53,
   "id": "08883712",
   "metadata": {},
   "outputs": [],
   "source": [
    "import re"
   ]
  },
  {
   "cell_type": "code",
   "execution_count": 55,
   "id": "9a1250e3",
   "metadata": {},
   "outputs": [],
   "source": [
    "def match(text):\n",
    "    patterns = '^[a-z0-9]*$'\n",
    "    if re.search(patterns,text):\n",
    "        return \"matched\"\n",
    "    else:\n",
    "        return\"not matched\""
   ]
  },
  {
   "cell_type": "code",
   "execution_count": 56,
   "id": "caffdf4c",
   "metadata": {},
   "outputs": [
    {
     "name": "stdout",
     "output_type": "stream",
     "text": [
      "matched\n"
     ]
    }
   ],
   "source": [
    "print(match(\"rushikehs123\"))"
   ]
  },
  {
   "cell_type": "markdown",
   "id": "353e1d2a",
   "metadata": {},
   "source": [
    "# Q16. What is the procedure for making a normal expression in regax case insensitive?"
   ]
  },
  {
   "cell_type": "code",
   "execution_count": 57,
   "id": "be72ac8c",
   "metadata": {},
   "outputs": [],
   "source": [
    "## Ans. Passing re.I or re.IGNORECASE as the second argument to re.compile() will make the matching case insensitive."
   ]
  },
  {
   "cell_type": "markdown",
   "id": "318a0597",
   "metadata": {},
   "source": [
    "# Q.17. What does the . character normally match? What does it match if re.DOTALL is passed as 2nd argument in re.compile()?"
   ]
  },
  {
   "cell_type": "code",
   "execution_count": 58,
   "id": "6c02d48a",
   "metadata": {},
   "outputs": [],
   "source": [
    "##Ans. The character normally matches any character except the newline character. If re.DOTALL is passed as the second argument to re.compile(),then the dot will also match newline characters."
   ]
  },
  {
   "cell_type": "markdown",
   "id": "dde89b97",
   "metadata": {},
   "source": [
    "# Q18. If numReg = re.compile(r'\\d+'), what will numRegex.sub('X', '11 drummers, 10 pipers, five rings, 4 hen') return?"
   ]
  },
  {
   "cell_type": "code",
   "execution_count": 59,
   "id": "59a3adff",
   "metadata": {},
   "outputs": [],
   "source": [
    "## Ans. 'X drummers, X pipers, five rings, X hens'"
   ]
  },
  {
   "cell_type": "markdown",
   "id": "8ccf99e8",
   "metadata": {},
   "source": [
    "# Q19.What does passing re.VERBOSE as the 2nd argument to re.compile() allow to do?"
   ]
  },
  {
   "cell_type": "code",
   "execution_count": 60,
   "id": "01a03147",
   "metadata": {},
   "outputs": [],
   "source": [
    "## Ans. The re.VERBOSE argument allows you to add whitespace and comments to the string passed to re.compile()."
   ]
  },
  {
   "cell_type": "markdown",
   "id": "22b360c4",
   "metadata": {},
   "source": [
    "# Q20. How would you write a regex that match a number with comma for every three digits? It must match the given following:\n",
    "'42'\n",
    "'1,234'\n",
    "'6,368,745'\n",
    "but not the following:\n",
    "'12,34,567' (which has only two digits between the commas)\n",
    "'1234' (which lacks commas)\n"
   ]
  },
  {
   "cell_type": "code",
   "execution_count": 61,
   "id": "dce3118b",
   "metadata": {},
   "outputs": [],
   "source": [
    "## Ans. re.compile(r'^\\d{1,3}(,\\d{3})*$') will create this regex, but other regex strings can produce a similar regular expression."
   ]
  },
  {
   "cell_type": "markdown",
   "id": "fa4318ed",
   "metadata": {},
   "source": [
    "# Q21. How would you write a regex that matches the full name of someone whose last name is Watanabe? You can assume that the first name that comes before it will always be one word that begins with a capital letter. The regex must match the following:\n",
    "'Haruto Watanabe'\n",
    "'Alice Watanabe'\n",
    "'RoboCop Watanabe'\n",
    "but not the following:\n",
    "'haruto Watanabe' (where the first name is not capitalized)\n",
    "'Mr. Watanabe' (where the preceding word has a nonletter character)\n",
    "'Watanabe' (which has no first name)\n",
    "'Haruto watanabe' (where Watanabe is not capitalized)\n"
   ]
  },
  {
   "cell_type": "code",
   "execution_count": 63,
   "id": "48ae1efa",
   "metadata": {},
   "outputs": [],
   "source": [
    "##Ans re.compile(r'[A-Z][a-b]*/sWatanabe')"
   ]
  },
  {
   "cell_type": "markdown",
   "id": "df2e8690",
   "metadata": {},
   "source": [
    "# Q22. 22. How would you write a regex that matches a sentence where the first word is either Alice, Bob, or Carol; the second word is either eats, pets, or throws; the third word is apples, cats, or baseballs; and the sentence ends with a period? This regex should be case-insensitive. It must match the following:\n",
    "'Alice eats apples.'\n",
    "'Bob pets cats.'\n",
    "'Carol throws baseballs.'\n",
    "'Alice throws Apples.'\n",
    "'BOB EATS CATS.'\n",
    "but not the following:\n",
    "'RoboCop eats apples.'\n",
    "'ALICE THROWS FOOTBALLS.'\n",
    "'Carol eats 7 cats.'\n"
   ]
  },
  {
   "cell_type": "code",
   "execution_count": 64,
   "id": "47f047f4",
   "metadata": {},
   "outputs": [],
   "source": [
    "## Ans re.compile(r'(Alice|Bob|Carol)\\s(eats|pets|throws)\\s(apples|cats|baseballs)\\.', re.IGNORECASE)"
   ]
  },
  {
   "cell_type": "code",
   "execution_count": null,
   "id": "d02d52d8",
   "metadata": {},
   "outputs": [],
   "source": []
  }
 ],
 "metadata": {
  "kernelspec": {
   "display_name": "Python 3",
   "language": "python",
   "name": "python3"
  },
  "language_info": {
   "codemirror_mode": {
    "name": "ipython",
    "version": 3
   },
   "file_extension": ".py",
   "mimetype": "text/x-python",
   "name": "python",
   "nbconvert_exporter": "python",
   "pygments_lexer": "ipython3",
   "version": "3.8.8"
  }
 },
 "nbformat": 4,
 "nbformat_minor": 5
}
